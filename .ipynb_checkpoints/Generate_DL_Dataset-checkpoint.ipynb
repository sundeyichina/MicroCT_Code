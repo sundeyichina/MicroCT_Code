{
 "cells": [
  {
   "cell_type": "code",
   "execution_count": 14,
   "metadata": {},
   "outputs": [],
   "source": [
    "import pandas as pd\n",
    "import json\n",
    "from math import sin, cos\n",
    "import matplotlib.pyplot as plt\n",
    "import numpy as np\n",
    "import os\n",
    "from collections import namedtuple\n",
    "import torch\n",
    "import torchvision\n",
    "from skimage import io\n",
    "#mport cv2"
   ]
  },
  {
   "cell_type": "code",
   "execution_count": 15,
   "metadata": {},
   "outputs": [],
   "source": [
    "def ReadCropSave(start_num, end_num, raw_img_dir, save_img_dir, fig_size):\n",
    "    for i in range(start_num, end_num+1, 1):\n",
    "        if i<10:\n",
    "            filename = 'slice0'+'000'+ str(i)\n",
    "        elif i>=10 and i<100:\n",
    "            filename = 'slice0'+'00'+ str(i)\n",
    "        elif i>=100 and i<1000:\n",
    "            filename = 'slice0'+'0'+ str(i)\n",
    "        else:\n",
    "            filename = 'slice0'+ str(i)\n",
    "        image = io.imread(raw_img_dir + filename + '.tif')\n",
    "        image_new = image[0:fig_size,0:fig_size]\n",
    "        io.imsave(save_img_dir + filename+ '.tif', image_new)"
   ]
  },
  {
   "cell_type": "code",
   "execution_count": 13,
   "metadata": {},
   "outputs": [],
   "source": [
    "\n",
    "# intercept the image to 1000X1000 for SlicesX\n",
    "fig_size = 1000\n",
    "start_num = 0\n",
    "end_num = 1033\n",
    "raw_img_dir = 'Dec02Scan_2019/With_PC_correction/SlicesX/'\n",
    "save_img_dir = 'Dec02Scan_Feb_2019_croped/With_PC_correction/SlicesX/'\n",
    "ReadCropSave(start_num, end_num, raw_img_dir, save_img_dir, fig_size)\n",
    "\n",
    "fig_size = 1000\n",
    "start_num = 0\n",
    "end_num = 1033\n",
    "raw_img_dir = 'Dec02Scan_2019/Without_PC_correction/SlicesX/'\n",
    "save_img_dir = 'Dec02Scan_Feb_2019_croped/Without_PC_correction/SlicesX/'\n",
    "ReadCropSave(start_num, end_num, raw_img_dir, save_img_dir, fig_size)\n",
    "\n",
    "\n",
    "# intercept the image to 1000X1000 for SlicesY\n",
    "fig_size = 1000\n",
    "start_num = 0\n",
    "end_num = 1008\n",
    "raw_img_dir = 'Dec02Scan_2019/With_PC_correction/SlicesY/'\n",
    "save_img_dir = 'Dec02Scan_Feb_2019_croped/With_PC_correction/SlicesY/'\n",
    "ReadCropSave(start_num, end_num, raw_img_dir, save_img_dir, fig_size)\n",
    "\n",
    "fig_size = 1000\n",
    "start_num = 0\n",
    "end_num = 1008\n",
    "raw_img_dir = 'Dec02Scan_2019/Without_PC_correction/SlicesY/'\n",
    "save_img_dir = 'Dec02Scan_Feb_2019_croped/Without_PC_correction/SlicesY/'\n",
    "ReadCropSave(start_num, end_num, raw_img_dir, save_img_dir, fig_size)\n",
    "\n",
    "# intercept the image to 1000X1000 for SliceZ\n",
    "fig_size = 1000\n",
    "start_num = 0\n",
    "end_num = 1159\n",
    "raw_img_dir = 'Dec02Scan_2019/With_PC_correction/SlicesZ/'\n",
    "save_img_dir = 'Dec02Scan_Feb_2019_croped/With_PC_correction/SlicesZ/'\n",
    "ReadCropSave(start_num, end_num, raw_img_dir, save_img_dir, fig_size)\n",
    "\n",
    "fig_size = 1000\n",
    "start_num = 0\n",
    "end_num = 1159\n",
    "raw_img_dir = 'Dec02Scan_2019/Without_PC_correction/SlicesZ/'\n",
    "save_img_dir = 'Dec02Scan_Feb_2019_croped/Without_PC_correction/SlicesZ/'\n",
    "ReadCropSave(start_num, end_num, raw_img_dir, save_img_dir, fig_size)"
   ]
  },
  {
   "cell_type": "code",
   "execution_count": 32,
   "metadata": {},
   "outputs": [],
   "source": [
    "def ReadSave(start_num, end_num, step, raw_img_dir, train_img_dir,val_img_dir, count_train, count_val):\n",
    "    for i in range(start_num, end_num+1, step):\n",
    "        #make the directory for each data\n",
    "        if i <= 0.75*end_num:\n",
    "            dir = os.path.join(train_img_dir, str(count_train))\n",
    "            count_train += 1 \n",
    "        else:\n",
    "            dir = os.path.join(val_img_dir, str(count_val))\n",
    "            count_val += 1\n",
    "        if not os.path.exists(dir):\n",
    "            os.mkdir(dir)\n",
    "        \n",
    "        if i<10:\n",
    "            filename = 'slice0'+'000'+ str(i)\n",
    "        elif i>=10 and i<100:\n",
    "            filename = 'slice0'+'00'+ str(i)\n",
    "        elif i>=100 and i<1000:\n",
    "            filename = 'slice0'+'0'+ str(i)\n",
    "        else:\n",
    "            filename = 'slice0'+ str(i)\n",
    "        image = io.imread(raw_img_dir + filename + '.tif')\n",
    "        #io.imsave(dir +'/' + 'image'+ '.tif', image)\n",
    "        io.imsave(dir +'/'+'image.tif', image)\n",
    "    return count_train, count_val"
   ]
  },
  {
   "cell_type": "code",
   "execution_count": 33,
   "metadata": {},
   "outputs": [
    {
     "name": "stdout",
     "output_type": "stream",
     "text": [
      "39 13\n",
      "77 26\n",
      "121 40\n"
     ]
    }
   ],
   "source": [
    "#Put the raw image in the folder \n",
    "#for SlicesX\n",
    "start_num = 0\n",
    "end_num = 1033\n",
    "step = 20\n",
    "count_train = 0\n",
    "count_val = 0\n",
    "raw_img_dir ='Dec02Scan_Feb_2019_croped/With_PC_correction/SlicesX/'\n",
    "train_img_dir = 'Dataset_DL/Dec02Scan_2020_02_28_training/'\n",
    "val_img_dir = 'Dataset_DL/Dec02Scan_2020_02_28_validation/'\n",
    "count_train, count_val = ReadSave(start_num, end_num, step, raw_img_dir, train_img_dir,val_img_dir, count_train, count_val)\n",
    "print(count_train, count_val)\n",
    "\n",
    "#for SlicesY\n",
    "start_num = 0\n",
    "end_num = 1008\n",
    "step = 20\n",
    "raw_img_dir ='Dec02Scan_Feb_2019_croped/With_PC_correction/SlicesY/'\n",
    "train_img_dir = 'Dataset_DL/Dec02Scan_2020_02_28_training/'\n",
    "val_img_dir = 'Dataset_DL/Dec02Scan_2020_02_28_validation/'\n",
    "count_train, count_val = ReadSave(start_num, end_num, step, raw_img_dir, train_img_dir,val_img_dir, count_train, count_val)\n",
    "print(count_train, count_val)\n",
    "\n",
    "#for SlicesZ\n",
    "start_num = 0\n",
    "end_num = 1159\n",
    "step = 20\n",
    "raw_img_dir ='Dec02Scan_Feb_2019_croped/With_PC_correction/SlicesZ/'\n",
    "train_img_dir = 'Dataset_DL/Dec02Scan_2020_02_28_training/'\n",
    "val_img_dir = 'Dataset_DL/Dec02Scan_2020_02_28_validation/'\n",
    "count_train, count_val = ReadSave(start_num, end_num, step, raw_img_dir, train_img_dir,val_img_dir, count_train, count_val)\n",
    "print(count_train, count_val)"
   ]
  },
  {
   "cell_type": "code",
   "execution_count": null,
   "metadata": {},
   "outputs": [],
   "source": []
  }
 ],
 "metadata": {
  "kernelspec": {
   "display_name": "Python 3",
   "language": "python",
   "name": "python3"
  },
  "language_info": {
   "codemirror_mode": {
    "name": "ipython",
    "version": 3
   },
   "file_extension": ".py",
   "mimetype": "text/x-python",
   "name": "python",
   "nbconvert_exporter": "python",
   "pygments_lexer": "ipython3",
   "version": "3.6.10"
  }
 },
 "nbformat": 4,
 "nbformat_minor": 2
}
